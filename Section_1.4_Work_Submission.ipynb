{
 "cells": [
  {
   "cell_type": "code",
   "execution_count": 1,
   "metadata": {},
   "outputs": [],
   "source": [
    "import re\n",
    "import geonamescache\n",
    "import pandas as pd\n",
    "import numpy as np\n",
    "import unidecode\n"
   ]
  },
  {
   "cell_type": "code",
   "execution_count": 2,
   "metadata": {},
   "outputs": [],
   "source": [
    "# Raw Country and City data from geonamescache\n",
    "gc = geonamescache.GeonamesCache()\n",
    "countries = gc.get_countries()\n",
    "cities = gc.get_cities()\n",
    "\n",
    "\n",
    "\n",
    "# prepare city name list to use\n",
    "# in regex matching with headline later\n",
    "city_names = []\n",
    "\n",
    "for city in cities:\n",
    "    # Avoid places with names like \"Of\"\n",
    "    # it appears in headlines a lot\n",
    "    if len(cities[city]['name']) > 2:\n",
    "        city_names.append(unidecode.unidecode(cities[city]['name']))\n",
    "\n",
    "# Sort names to have the longest first\n",
    "# so that we match \"San Jose\" before \"San\"\n",
    "city_names.sort(key=len, reverse=True)\n",
    "\n",
    "\n",
    "\n",
    "# prepare country name list to use\n",
    "# in regex matching with headline later\n",
    "country_names = []\n",
    "\n",
    "for country in countries:\n",
    "    # Avoid places with names like \"Of\"\n",
    "    # it appears in headlines a lot\n",
    "    if len(countries[country]['name']) > 2:\n",
    "        country_names.append(unidecode.unidecode(countries[country]['name']))\n",
    "\n",
    "        \n",
    "# Sort names to have the longest first\n",
    "country_names.sort(key=len, reverse=True)\n",
    "\n",
    "\n",
    "\n",
    "# Load headlines data from file\n",
    "raw_headlines = []\n",
    "file = open(\"data/headlines.txt\", 'r')\n",
    "for line in file.readlines():\n",
    "    raw_headlines.append(line.strip())\n",
    "file.close()\n",
    "\n",
    "# Create initial panda dataframe with headline column\n",
    "headlines = pd.DataFrame(raw_headlines, columns=['headline'])\n"
   ]
  },
  {
   "cell_type": "code",
   "execution_count": 4,
   "metadata": {},
   "outputs": [
    {
     "name": "stdout",
     "output_type": "stream",
     "text": [
      "                                  headline         cities countries\n",
      "0                 Zika Outbreak Hits Miami          Miami       NaN\n",
      "1          Could Zika Reach New York City?  New York City       NaN\n",
      "2        First Case of Zika in Miami Beach    Miami Beach       NaN\n",
      "3  Mystery Virus Spreads in Recife, Brazil         Recife    Brazil\n",
      "4  Dallas man comes down with case of Zika         Dallas       NaN\n"
     ]
    }
   ],
   "source": [
    "# Create regex expression from all city names, including word boundaries\n",
    "city_name_regex = r\"(\"+r\"\\b|\\b\".join(city_names)+r\")\"\n",
    "\n",
    "# Create regex expression from all country names, including word boundaries\n",
    "country_name_regex = r\"(\"+r\"\\b|\\b\".join(country_names)+r\")\"\n",
    "\n",
    "# Iterate over headlines dataframe row\n",
    "# and fill in countries and cities where \n",
    "# there is a match\n",
    "for idx, row in headlines.iterrows():\n",
    "        # Matching any country names\n",
    "        matched_countries = re.search(country_name_regex, row.headline, flags=re.IGNORECASE)\n",
    "        if matched_countries is not None:\n",
    "            headlines.at[idx, 'countries'] = matched_countries[0]\n",
    "        \n",
    "        # Matching any City names\n",
    "        matched_cities = re.search(city_name_regex, row.headline, flags=re.IGNORECASE)\n",
    "        if matched_cities is not None:\n",
    "            headlines.at[idx, 'cities'] = matched_cities[0]\n",
    "\n",
    "            \n",
    "            \n",
    "            \n",
    "            \n",
    "            \n",
    "#\n",
    "# The DataFrame \"headlines\" now has its data filled in :D\n",
    "#\n",
    "\n",
    "print(headlines.head())"
   ]
  }
 ],
 "metadata": {
  "kernelspec": {
   "display_name": "Python 3",
   "language": "python",
   "name": "python3"
  },
  "language_info": {
   "codemirror_mode": {
    "name": "ipython",
    "version": 3
   },
   "file_extension": ".py",
   "mimetype": "text/x-python",
   "name": "python",
   "nbconvert_exporter": "python",
   "pygments_lexer": "ipython3",
   "version": "3.7.6"
  }
 },
 "nbformat": 4,
 "nbformat_minor": 4
}
